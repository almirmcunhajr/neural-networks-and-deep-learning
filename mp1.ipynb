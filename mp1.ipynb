{
 "cells": [
  {
   "cell_type": "code",
   "execution_count": 1,
   "id": "ec555776-3833-4e6e-8f2c-0161bd06f0b2",
   "metadata": {},
   "outputs": [],
   "source": [
    "from src import mnist_loader\n",
    "from src import network\n",
    "import numpy as np\n",
    "from sklearn.metrics import recall_score, accuracy_score"
   ]
  },
  {
   "cell_type": "code",
   "execution_count": 2,
   "id": "31e596d9-6666-48ab-82ec-9ac4d9a615f3",
   "metadata": {},
   "outputs": [],
   "source": [
    "training_data, validation_data, test_data = mnist_loader.load_data_wrapper()"
   ]
  },
  {
   "cell_type": "code",
   "execution_count": 3,
   "id": "5cc0899a-4ddf-4201-aa9a-4e1acf8f4ce8",
   "metadata": {},
   "outputs": [],
   "source": [
    " net = network.Network([784, 30, 10])"
   ]
  },
  {
   "cell_type": "code",
   "execution_count": 4,
   "id": "b3a9d439-a042-4d88-9412-8ba99182be08",
   "metadata": {},
   "outputs": [
    {
     "name": "stdout",
     "output_type": "stream",
     "text": [
      "(8022, 10000) {7: (947, 1028), 2: (937, 1032), 1: (0, 1135), 0: (959, 980), 4: (896, 982), 9: (881, 1009), 5: (761, 892), 6: (891, 958), 3: (915, 1010), 8: (835, 974)} {7: 0.9212062256809338, 2: 0.9079457364341085, 1: 0.0, 0: 0.9785714285714285, 4: 0.9124236252545825, 9: 0.8731417244796829, 5: 0.8531390134529148, 6: 0.930062630480167, 3: 0.905940594059406, 8: 0.8572895277207392}\n",
      "Epoch 0:\n",
      "    Total accuracy: 0.8022\n",
      "     Class 7 accuracy: 0.9212062256809338\n",
      "     Class 7 recall: 0.9212062256809338\n",
      "     Class 2 accuracy: 0.9079457364341085\n",
      "     Class 2 recall: 0.9079457364341085\n",
      "     Class 1 accuracy: 0.0\n",
      "     Class 1 recall: 0.0\n",
      "     Class 0 accuracy: 0.9785714285714285\n",
      "     Class 0 recall: 0.9785714285714285\n",
      "     Class 4 accuracy: 0.9124236252545825\n",
      "     Class 4 recall: 0.9124236252545825\n",
      "     Class 9 accuracy: 0.8731417244796829\n",
      "     Class 9 recall: 0.8731417244796829\n",
      "     Class 5 accuracy: 0.8531390134529148\n",
      "     Class 5 recall: 0.8531390134529148\n",
      "     Class 6 accuracy: 0.930062630480167\n",
      "     Class 6 recall: 0.930062630480167\n",
      "     Class 3 accuracy: 0.905940594059406\n",
      "     Class 3 recall: 0.905940594059406\n",
      "     Class 8 accuracy: 0.8572895277207392\n",
      "     Class 8 recall: 0.8572895277207392\n",
      "(8115, 10000) {7: (949, 1028), 2: (961, 1032), 1: (0, 1135), 0: (958, 980), 4: (881, 982), 9: (913, 1009), 5: (758, 892), 6: (914, 958), 3: (936, 1010), 8: (845, 974)} {7: 0.9231517509727627, 2: 0.9312015503875969, 1: 0.0, 0: 0.9775510204081632, 4: 0.8971486761710794, 9: 0.9048562933597621, 5: 0.8497757847533632, 6: 0.954070981210856, 3: 0.9267326732673268, 8: 0.8675564681724846}\n",
      "Epoch 1:\n",
      "    Total accuracy: 0.8115\n",
      "     Class 7 accuracy: 0.9231517509727627\n",
      "     Class 7 recall: 0.9231517509727627\n",
      "     Class 2 accuracy: 0.9312015503875969\n",
      "     Class 2 recall: 0.9312015503875969\n",
      "     Class 1 accuracy: 0.0\n",
      "     Class 1 recall: 0.0\n",
      "     Class 0 accuracy: 0.9775510204081632\n",
      "     Class 0 recall: 0.9775510204081632\n",
      "     Class 4 accuracy: 0.8971486761710794\n",
      "     Class 4 recall: 0.8971486761710794\n",
      "     Class 9 accuracy: 0.9048562933597621\n",
      "     Class 9 recall: 0.9048562933597621\n",
      "     Class 5 accuracy: 0.8497757847533632\n",
      "     Class 5 recall: 0.8497757847533632\n",
      "     Class 6 accuracy: 0.954070981210856\n",
      "     Class 6 recall: 0.954070981210856\n",
      "     Class 3 accuracy: 0.9267326732673268\n",
      "     Class 3 recall: 0.9267326732673268\n",
      "     Class 8 accuracy: 0.8675564681724846\n",
      "     Class 8 recall: 0.8675564681724846\n",
      "(8216, 10000) {7: (965, 1028), 2: (956, 1032), 1: (0, 1135), 0: (951, 980), 4: (895, 982), 9: (897, 1009), 5: (801, 892), 6: (925, 958), 3: (913, 1010), 8: (913, 974)} {7: 0.938715953307393, 2: 0.9263565891472868, 1: 0.0, 0: 0.9704081632653061, 4: 0.9114052953156823, 9: 0.8889990089197225, 5: 0.897982062780269, 6: 0.965553235908142, 3: 0.903960396039604, 8: 0.9373716632443532}\n",
      "Epoch 2:\n",
      "    Total accuracy: 0.8216\n",
      "     Class 7 accuracy: 0.938715953307393\n",
      "     Class 7 recall: 0.938715953307393\n",
      "     Class 2 accuracy: 0.9263565891472868\n",
      "     Class 2 recall: 0.9263565891472868\n",
      "     Class 1 accuracy: 0.0\n",
      "     Class 1 recall: 0.0\n",
      "     Class 0 accuracy: 0.9704081632653061\n",
      "     Class 0 recall: 0.9704081632653061\n",
      "     Class 4 accuracy: 0.9114052953156823\n",
      "     Class 4 recall: 0.9114052953156823\n",
      "     Class 9 accuracy: 0.8889990089197225\n",
      "     Class 9 recall: 0.8889990089197225\n",
      "     Class 5 accuracy: 0.897982062780269\n",
      "     Class 5 recall: 0.897982062780269\n",
      "     Class 6 accuracy: 0.965553235908142\n",
      "     Class 6 recall: 0.965553235908142\n",
      "     Class 3 accuracy: 0.903960396039604\n",
      "     Class 3 recall: 0.903960396039604\n",
      "     Class 8 accuracy: 0.9373716632443532\n",
      "     Class 8 recall: 0.9373716632443532\n",
      "(8252, 10000) {7: (953, 1028), 2: (977, 1032), 1: (0, 1135), 0: (957, 980), 4: (939, 982), 9: (892, 1009), 5: (806, 892), 6: (908, 958), 3: (933, 1010), 8: (887, 974)} {7: 0.9270428015564203, 2: 0.9467054263565892, 1: 0.0, 0: 0.976530612244898, 4: 0.9562118126272913, 9: 0.8840436075322101, 5: 0.9035874439461884, 6: 0.9478079331941545, 3: 0.9237623762376238, 8: 0.9106776180698152}\n",
      "Epoch 3:\n",
      "    Total accuracy: 0.8252\n",
      "     Class 7 accuracy: 0.9270428015564203\n",
      "     Class 7 recall: 0.9270428015564203\n",
      "     Class 2 accuracy: 0.9467054263565892\n",
      "     Class 2 recall: 0.9467054263565892\n",
      "     Class 1 accuracy: 0.0\n",
      "     Class 1 recall: 0.0\n",
      "     Class 0 accuracy: 0.976530612244898\n",
      "     Class 0 recall: 0.976530612244898\n",
      "     Class 4 accuracy: 0.9562118126272913\n",
      "     Class 4 recall: 0.9562118126272913\n",
      "     Class 9 accuracy: 0.8840436075322101\n",
      "     Class 9 recall: 0.8840436075322101\n",
      "     Class 5 accuracy: 0.9035874439461884\n",
      "     Class 5 recall: 0.9035874439461884\n",
      "     Class 6 accuracy: 0.9478079331941545\n",
      "     Class 6 recall: 0.9478079331941545\n",
      "     Class 3 accuracy: 0.9237623762376238\n",
      "     Class 3 recall: 0.9237623762376238\n",
      "     Class 8 accuracy: 0.9106776180698152\n",
      "     Class 8 recall: 0.9106776180698152\n",
      "(8296, 10000) {7: (974, 1028), 2: (952, 1032), 1: (0, 1135), 0: (952, 980), 4: (921, 982), 9: (910, 1009), 5: (811, 892), 6: (912, 958), 3: (958, 1010), 8: (906, 974)} {7: 0.9474708171206225, 2: 0.9224806201550387, 1: 0.0, 0: 0.9714285714285714, 4: 0.9378818737270875, 9: 0.9018830525272548, 5: 0.9091928251121076, 6: 0.9519832985386222, 3: 0.9485148514851485, 8: 0.9301848049281314}\n",
      "Epoch 4:\n",
      "    Total accuracy: 0.8296\n",
      "     Class 7 accuracy: 0.9474708171206225\n",
      "     Class 7 recall: 0.9474708171206225\n",
      "     Class 2 accuracy: 0.9224806201550387\n",
      "     Class 2 recall: 0.9224806201550387\n",
      "     Class 1 accuracy: 0.0\n",
      "     Class 1 recall: 0.0\n",
      "     Class 0 accuracy: 0.9714285714285714\n",
      "     Class 0 recall: 0.9714285714285714\n",
      "     Class 4 accuracy: 0.9378818737270875\n",
      "     Class 4 recall: 0.9378818737270875\n",
      "     Class 9 accuracy: 0.9018830525272548\n",
      "     Class 9 recall: 0.9018830525272548\n",
      "     Class 5 accuracy: 0.9091928251121076\n",
      "     Class 5 recall: 0.9091928251121076\n",
      "     Class 6 accuracy: 0.9519832985386222\n",
      "     Class 6 recall: 0.9519832985386222\n",
      "     Class 3 accuracy: 0.9485148514851485\n",
      "     Class 3 recall: 0.9485148514851485\n",
      "     Class 8 accuracy: 0.9301848049281314\n",
      "     Class 8 recall: 0.9301848049281314\n",
      "Max accuracy: 0.9785714285714285\n",
      "Max recall: 0.9785714285714285\n",
      "Average accuracy: 0.8301981683910579\n",
      "Average recall: 0.8301981683910579\n"
     ]
    },
    {
     "data": {
      "text/plain": [
       "(0.9785714285714285, 0.9785714285714285)"
      ]
     },
     "execution_count": 4,
     "metadata": {},
     "output_type": "execute_result"
    }
   ],
   "source": [
    "net.SGD(training_data, 5, 10, 3.0, test_data=test_data)"
   ]
  },
  {
   "cell_type": "code",
   "execution_count": null,
   "id": "a4f7eda9",
   "metadata": {},
   "outputs": [],
   "source": []
  }
 ],
 "metadata": {
  "kernelspec": {
   "display_name": "Python 3 (ipykernel)",
   "language": "python",
   "name": "python3"
  },
  "language_info": {
   "codemirror_mode": {
    "name": "ipython",
    "version": 3
   },
   "file_extension": ".py",
   "mimetype": "text/x-python",
   "name": "python",
   "nbconvert_exporter": "python",
   "pygments_lexer": "ipython3",
   "version": "3.10.7"
  }
 },
 "nbformat": 4,
 "nbformat_minor": 5
}
