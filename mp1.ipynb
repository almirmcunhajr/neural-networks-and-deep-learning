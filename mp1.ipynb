{
 "cells": [
  {
   "cell_type": "code",
   "execution_count": 1,
   "id": "ec555776-3833-4e6e-8f2c-0161bd06f0b2",
   "metadata": {},
   "outputs": [],
   "source": [
    "from src import mnist_loader\n",
    "from src import network\n",
    "import numpy as np\n",
    "from sklearn.metrics import recall_score, accuracy_score"
   ]
  },
  {
   "cell_type": "code",
   "execution_count": 2,
   "id": "31e596d9-6666-48ab-82ec-9ac4d9a615f3",
   "metadata": {},
   "outputs": [],
   "source": [
    "training_data, validation_data, test_data = mnist_loader.load_data_wrapper()"
   ]
  },
  {
   "cell_type": "code",
   "execution_count": 3,
   "id": "5cc0899a-4ddf-4201-aa9a-4e1acf8f4ce8",
   "metadata": {},
   "outputs": [],
   "source": [
    " net = network.Network([784, 30, 10])"
   ]
  },
  {
   "cell_type": "code",
   "execution_count": 5,
   "id": "b3a9d439-a042-4d88-9412-8ba99182be08",
   "metadata": {},
   "outputs": [
    {
     "name": "stdout",
     "output_type": "stream",
     "text": [
      "(9253, 10000) {7: (933, 1028), 2: (950, 1032), 1: (1112, 1135), 0: (954, 980), 4: (908, 982), 9: (927, 1009), 5: (772, 892), 6: (911, 958), 3: (932, 1010), 8: (854, 974)} {7: 0.9075875486381323, 2: 0.9205426356589147, 1: 0.9797356828193833, 0: 0.9734693877551021, 4: 0.924643584521385, 9: 0.9187314172447968, 5: 0.8654708520179372, 6: 0.9509394572025052, 3: 0.9227722772277228, 8: 0.8767967145790554}\n",
      "Epoch 0:\n",
      "    Total accuracy: 0.9253\n",
      "Class 7 accuracy: 0.9075875486381323\n",
      "Class 7 recall: 0.9075875486381323\n"
     ]
    },
    {
     "ename": "AttributeError",
     "evalue": "'dict' object has no attribute 'add'",
     "output_type": "error",
     "traceback": [
      "\u001b[1;31m---------------------------------------------------------------------------\u001b[0m",
      "\u001b[1;31mAttributeError\u001b[0m                            Traceback (most recent call last)",
      "Cell \u001b[1;32mIn[5], line 1\u001b[0m\n\u001b[1;32m----> 1\u001b[0m net\u001b[39m.\u001b[39;49mSGD(training_data, \u001b[39m5\u001b[39;49m, \u001b[39m10\u001b[39;49m, \u001b[39m3.0\u001b[39;49m, test_data\u001b[39m=\u001b[39;49mtest_data)\n",
      "File \u001b[1;32mc:\\Users\\gibam\\OneDrive\\Área de Trabalho\\Redes neurais\\Meu\\neural-networks-and-deep-learning\\src\\network.py:78\u001b[0m, in \u001b[0;36mNetwork.SGD\u001b[1;34m(self, training_data, epochs, mini_batch_size, eta, test_data)\u001b[0m\n\u001b[0;32m     75\u001b[0m         \u001b[39mprint\u001b[39m(\u001b[39m\"\u001b[39m\u001b[39mClass \u001b[39m\u001b[39m{0}\u001b[39;00m\u001b[39m accuracy: \u001b[39m\u001b[39m{1}\u001b[39;00m\u001b[39m\"\u001b[39m\u001b[39m.\u001b[39mformat(c, e[\u001b[39m0\u001b[39m]\u001b[39m/\u001b[39me[\u001b[39m1\u001b[39m]))\n\u001b[0;32m     76\u001b[0m         \u001b[39mprint\u001b[39m(\u001b[39m\"\u001b[39m\u001b[39mClass \u001b[39m\u001b[39m{0}\u001b[39;00m\u001b[39m recall: \u001b[39m\u001b[39m{1}\u001b[39;00m\u001b[39m\"\u001b[39m\u001b[39m.\u001b[39mformat(c, recall_by_class[c]))\n\u001b[1;32m---> 78\u001b[0m         max_acc\u001b[39m.\u001b[39;49madd(e[\u001b[39m0\u001b[39m]\u001b[39m/\u001b[39me[\u001b[39m1\u001b[39m])\n\u001b[0;32m     79\u001b[0m         max_recall\u001b[39m.\u001b[39madd(recall_by_class[c])\n\u001b[0;32m     81\u001b[0m \u001b[39melse\u001b[39;00m:\n",
      "\u001b[1;31mAttributeError\u001b[0m: 'dict' object has no attribute 'add'"
     ]
    }
   ],
   "source": [
    "net.SGD(training_data, 5, 10, 3.0, test_data=test_data)"
   ]
  },
  {
   "cell_type": "code",
   "execution_count": null,
   "id": "a4f7eda9",
   "metadata": {},
   "outputs": [],
   "source": []
  }
 ],
 "metadata": {
  "kernelspec": {
   "display_name": "Python 3 (ipykernel)",
   "language": "python",
   "name": "python3"
  },
  "language_info": {
   "codemirror_mode": {
    "name": "ipython",
    "version": 3
   },
   "file_extension": ".py",
   "mimetype": "text/x-python",
   "name": "python",
   "nbconvert_exporter": "python",
   "pygments_lexer": "ipython3",
   "version": "3.10.7"
  }
 },
 "nbformat": 4,
 "nbformat_minor": 5
}
