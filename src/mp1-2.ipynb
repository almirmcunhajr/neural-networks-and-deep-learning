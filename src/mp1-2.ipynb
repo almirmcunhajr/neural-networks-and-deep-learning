{
 "cells": [
  {
   "cell_type": "code",
   "execution_count": 1,
   "metadata": {},
   "outputs": [
    {
     "name": "stderr",
     "output_type": "stream",
     "text": [
      "WARNING (theano.tensor.blas): Using NumPy C-API based implementation for BLAS functions.\n"
     ]
    },
    {
     "name": "stdout",
     "output_type": "stream",
     "text": [
      "Trying to run under a GPU.  If this is not desired, then modify network3.py\n",
      "to set the GPU flag to False.\n"
     ]
    }
   ],
   "source": [
    "import network3\n",
    "from network3 import Network\n",
    "from network3 import ConvPoolLayer, FullyConnectedLayer, SoftmaxLayer\n",
    "\n",
    "import matplotlib.pyplot as plt\n",
    "import numpy as np"
   ]
  },
  {
   "cell_type": "code",
   "execution_count": 2,
   "metadata": {},
   "outputs": [],
   "source": [
    "training_data, validation_data, test_data = network3.load_data_shared()"
   ]
  },
  {
   "cell_type": "code",
   "execution_count": 3,
   "metadata": {},
   "outputs": [
    {
     "name": "stderr",
     "output_type": "stream",
     "text": [
      "/home/almir.cunha/.pyenv/versions/3.7.17/lib/python3.7/site-packages/theano/tensor/nnet/conv.py:98: UserWarning: theano.tensor.nnet.conv.conv2d is deprecated. Use theano.tensor.nnet.conv2d instead.\n",
      "  warnings.warn(\"theano.tensor.nnet.conv.conv2d is deprecated.\"\n",
      "/home/almir.cunha/projects/neural-networks-and-deep-learning/src/network3.py:321: UserWarning: DEPRECATION: the 'ds' parameter is not going to exist anymore as it is going to be replaced by the parameter 'ws'.\n",
      "  input=conv_out, ds=self.poolsize, ignore_border=True)\n"
     ]
    },
    {
     "name": "stdout",
     "output_type": "stream",
     "text": [
      "Epoch 0:\n",
      "Training mini-batch number 0\n",
      "Training mini-batch number 1000\n",
      "Training mini-batch number 2000\n",
      "Training mini-batch number 3000\n",
      "Training mini-batch number 4000\n",
      "Epoch 0: validation accuracy 9.83%\n",
      "This is the best validation accuracy to date.\n",
      "The corresponding test accuracy is 9.82%\n",
      "Accuracy by Class:\n",
      "    Class 7: 0.0\n",
      "    Class 2: 0.0\n",
      "    Class 1: 0.0\n",
      "    Class 0: 0.0\n",
      "    Class 4: 1.0\n",
      "    Class 9: 0.0\n",
      "    Class 5: 0.0\n",
      "    Class 6: 0.0\n",
      "    Class 3: 0.0\n",
      "    Class 8: 0.0\n",
      "Precision:\n",
      "    Class 7: 0.0\n",
      "    Class 2: 0.0\n",
      "    Class 1: 0.0\n",
      "    Class 0: 0.0\n",
      "    Class 4: 0.09823929571828731\n",
      "    Class 9: 0.0\n",
      "    Class 5: 0.0\n",
      "    Class 6: 0.0\n",
      "    Class 3: 0.0\n",
      "    Class 8: 0.0\n",
      "Recall:\n",
      "    Class 7: 0.0\n",
      "    Class 2: 0.0\n",
      "    Class 1: 0.0\n",
      "    Class 0: 0.0\n",
      "    Class 4: 1.0\n",
      "    Class 9: 0.0\n",
      "    Class 5: 0.0\n",
      "    Class 6: 0.0\n",
      "    Class 3: 0.0\n",
      "    Class 8: 0.0\n",
      "Total Accuracy: 0.0982\n",
      "Total Precision: 0.00982392957182873\n",
      "Total Recall: 0.1\n",
      "Epoch 1:\n",
      "Training mini-batch number 5000\n",
      "Training mini-batch number 6000\n",
      "Training mini-batch number 7000\n",
      "Training mini-batch number 8000\n",
      "Training mini-batch number 9000\n",
      "Epoch 1: validation accuracy 9.83%\n",
      "This is the best validation accuracy to date.\n",
      "The corresponding test accuracy is 9.82%\n",
      "Accuracy by Class:\n",
      "    Class 7: 0.0\n",
      "    Class 2: 0.0\n",
      "    Class 1: 0.0\n",
      "    Class 0: 0.0\n",
      "    Class 4: 1.0\n",
      "    Class 9: 0.0\n",
      "    Class 5: 0.0\n",
      "    Class 6: 0.0\n",
      "    Class 3: 0.0\n",
      "    Class 8: 0.0\n",
      "Precision:\n",
      "    Class 7: 0.0\n",
      "    Class 2: 0.0\n",
      "    Class 1: 0.0\n",
      "    Class 0: 0.0\n",
      "    Class 4: 0.09823929571828731\n",
      "    Class 9: 0.0\n",
      "    Class 5: 0.0\n",
      "    Class 6: 0.0\n",
      "    Class 3: 0.0\n",
      "    Class 8: 0.0\n",
      "Recall:\n",
      "    Class 7: 0.0\n",
      "    Class 2: 0.0\n",
      "    Class 1: 0.0\n",
      "    Class 0: 0.0\n",
      "    Class 4: 1.0\n",
      "    Class 9: 0.0\n",
      "    Class 5: 0.0\n",
      "    Class 6: 0.0\n",
      "    Class 3: 0.0\n",
      "    Class 8: 0.0\n",
      "Total Accuracy: 0.0982\n",
      "Total Precision: 0.00982392957182873\n",
      "Total Recall: 0.1\n",
      "Finished training network.\n",
      "Best validation accuracy of 9.83% obtained at iteration 9999\n",
      "Corresponding test accuracy of 9.82%\n"
     ]
    },
    {
     "data": {
      "image/png": "[encoded data removed]",
      "text/plain": [
       "<Figure size 640x480 with 1 Axes>"
      ]
     },
     "metadata": {},
     "output_type": "display_data"
    }
   ],
   "source": [
    "epochs = 2\n",
    "mini_batch_size = 10\n",
    "eta = 3.0\n",
    "net = Network([\n",
    "        ConvPoolLayer(\n",
    "            image_shape=(mini_batch_size, 1, 28, 28), \n",
    "            filter_shape=(20, 1, 5, 5), \n",
    "            poolsize=(2, 2)\n",
    "        ),\n",
    "        FullyConnectedLayer(n_in=20*12*12, n_out=100),\n",
    "        SoftmaxLayer(n_in=100, n_out=10)\n",
    "    ],\n",
    "    mini_batch_size\n",
    ")\n",
    "total_accurancy_series, total_precision_series, total_recal_series = net.SGD(training_data, epochs, mini_batch_size, eta, validation_data, test_data)\n",
    "y = np.array(list(range(epochs)))\n",
    "plt.plot(y, total_accurancy_series, label=\"Acurracy\")\n",
    "plt.plot(y, total_precision_series, label=\"Precision\")\n",
    "plt.plot(y, total_recal_series, label=\"Recall\")\n",
    "plt.legend()\n",
    "plt.show()"
   ]
  }
 ],
 "metadata": {
  "kernelspec": {
   "display_name": "Python 3",
   "language": "python",
   "name": "python3"
  },
  "language_info": {
   "codemirror_mode": {
    "name": "ipython",
    "version": 3
   },
   "file_extension": ".py",
   "mimetype": "text/x-python",
   "name": "python",
   "nbconvert_exporter": "python",
   "pygments_lexer": "ipython3",
   "version": "3.7.17"
  },
  "orig_nbformat": 4
 },
 "nbformat": 4,
 "nbformat_minor": 2
}
